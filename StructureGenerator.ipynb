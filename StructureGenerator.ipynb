{
 "cells": [
  {
   "cell_type": "markdown",
   "metadata": {},
   "source": [
    "### Mg (10m10) Onsurface Adsorption Surface Pourbaix Diagram Notebook "
   ]
  },
  {
   "cell_type": "markdown",
   "metadata": {},
   "source": [
    "1. Construct the on-surface adsorption surfaces\n",
    "   \n",
    "* Import required packages for the structure construction"
   ]
  },
  {
   "cell_type": "code",
   "execution_count": 1,
   "metadata": {},
   "outputs": [],
   "source": [
    "import sys\n",
    "# need to determine the path for the surface pourbaix-helper package\n",
    "sys.path.append(\"/Users/libingxin/Project/SurfacePourbaix/SurfacePourbaixHelper/\")"
   ]
  },
  {
   "cell_type": "code",
   "execution_count": 2,
   "metadata": {},
   "outputs": [],
   "source": [
    "from SlabBuilder import SlabBuilder\n",
    "from Mg10m10SiteFinder import Mg_10m10_AdsorptionFinder as SiteFinder\n",
    "from Mg10m10AdsorptionHelper import Mg_10m10_AdsorptionAdder as AdsorpAdder\n",
    "from StructureOutput import StructureOutput\n",
    "import numpy as np\n",
    "import copy as cp\n",
    "import os\n",
    "import subprocess"
   ]
  },
  {
   "cell_type": "markdown",
   "metadata": {},
   "source": [
    "2. Build up the Mg hcp bulk structure and the (10m10) surface with relaxed VASP parameters"
   ]
  },
  {
   "cell_type": "code",
   "execution_count": 3,
   "metadata": {},
   "outputs": [],
   "source": [
    "a_vasp = 3.1976346746068987\n",
    "c_vasp = 5.1651843977024186\n",
    "\n",
    "lattice = [a_vasp, a_vasp, c_vasp]\n",
    "\n",
    "Mg = SlabBuilder('Mg','hcp',lattice)\n",
    "\n",
    "# Constructing the bulk hcp Mg structure\n",
    "Mg.BulkStructureBuilder()\n",
    "\n",
    "# Constructing the Mg (10m10) surface with 8 layers and 20 Angstrom vacuum length\n",
    "supercell = np.array([2,2,1])\n",
    "Mg.SlabBuilder([1,0,0],8,10,supercell)\n",
    "Mg10m10 = Mg.supercellslab\n",
    "\n",
    "# Determine all possible adsorption sites\n",
    "# Check the position of different sites with Mg_10m10_af.[The Sites You Want:HW,OT,SB,SB and OCTa/b, TetraIa/b, TetraIIa/b]\n",
    "adsorption = SiteFinder(Mg10m10)\n",
    "adsorption.LayerFinder()\n",
    "\n",
    "adsorption.OnSurfAdsorptionFinder()\n",
    "adsorption.SubSurfAdsorptionFinder(a_vasp,c_vasp)"
   ]
  },
  {
   "cell_type": "code",
   "execution_count": 4,
   "metadata": {},
   "outputs": [],
   "source": [
    "all_onsurf_site = dict([(\"HW\",adsorption.HW), (\"LB\",adsorption.LB), (\"OT\",adsorption.OT), (\"SB\",adsorption.SB)])\n",
    "all_subsurf_site = dict([(\"OCTa\",adsorption.OCTa), (\"OCTb\",adsorption.OCTb),\n",
    "                         (\"TetraIa\",adsorption.TetraIa), (\"TetraIb\",adsorption.TetraIb), \n",
    "                         (\"TetraIIa\",adsorption.TetraIIa), (\"TetraIIb\",adsorption.TetraIIb)])"
   ]
  },
  {
   "cell_type": "markdown",
   "metadata": {},
   "source": [
    "3. Generate all onsurface adsorption structures and corresponding directories\n",
    "* Generating pure adsorption surface structures "
   ]
  },
  {
   "cell_type": "code",
   "execution_count": 5,
   "metadata": {},
   "outputs": [],
   "source": [
    "adsorbate = [\"O\",\"OH\"]\n",
    "sites = list(all_onsurf_site.keys())"
   ]
  },
  {
   "cell_type": "code",
   "execution_count": 6,
   "metadata": {},
   "outputs": [],
   "source": [
    "for site in sites:\n",
    "    for coverage in range(1,5):\n",
    "        if coverage != 2:\n",
    "            for ads in adsorbate:\n",
    "                dir = 'Mg_10m10_' + str(coverage) + str(ads) + '_' + str(site) \n",
    "                os.mkdir(dir)\n",
    "                os.system('cp INCAR KPOINTS %s' % dir)\n",
    "                os.chdir(dir)\n",
    "\n",
    "                slab = AdsorpAdder(Mg10m10,all_onsurf_site[site])\n",
    "                slab.PureAdsorption(coverage/4,ads)\n",
    "\n",
    "                writer = StructureOutput(\"POSCAR\",\"vasp\",slab.slab_Pure)\n",
    "                writer.StructureWriter()\n",
    "\n",
    "                os.chdir(\"..\")\n",
    "\n",
    "        if coverage == 2:\n",
    "            for ads in adsorbate:\n",
    "                for j in range(1,4):\n",
    "                    dir = 'Mg_10m10_' + str(coverage) + str(ads) + '_' + str(site) + '_p' + str(j)\n",
    "                    os.mkdir(dir)\n",
    "                    os.system('cp INCAR KPOINTS %s' % dir)\n",
    "                    os.chdir(dir)\n",
    "\n",
    "                    slab = AdsorpAdder(Mg10m10,all_onsurf_site[site])\n",
    "                    slab.PureAdsorption(coverage/4,ads)\n",
    "\n",
    "                    cm = 'writer = StructureOutput(\"POSCAR\",\"vasp\",slab.slab_Pure2_p%i)'%j\n",
    "                    exec(cm)\n",
    "                    writer.StructureWriter()\n",
    "\n",
    "                    os.chdir(\"..\")"
   ]
  },
  {
   "cell_type": "markdown",
   "metadata": {},
   "source": [
    "* Generating hybrid adsorption surface structures"
   ]
  },
  {
   "cell_type": "code",
   "execution_count": 7,
   "metadata": {},
   "outputs": [],
   "source": [
    "for site in sites:\n",
    "    for coverage in range(2,5):\n",
    "        slab = AdsorpAdder(Mg10m10,all_onsurf_site[site])\n",
    "\n",
    "        for n_o in range(1,coverage):\n",
    "            n_oh = coverage - n_o \n",
    "\n",
    "            if ((n_oh == 1) and (n_o == 1)) or ((n_oh == 1) and (n_o == 2)) or ((n_oh == 2) and (n_o == 1)) or ((n_oh == 2) and (n_o == 2)):\n",
    "                for j in range(1,4):\n",
    "                    dir = 'Mg_10m10_' + str(n_o) + 'O_' + str(n_oh) + 'OH_' + str(site) + '_p' + str(j)\n",
    "                    os.mkdir(dir)\n",
    "                    os.system('cp INCAR KPOINTS %s' % dir)\n",
    "                    os.chdir(dir)\n",
    "\n",
    "                    slab.HybridAdsorption(n_o,n_oh)\n",
    "                    cm = 'writer = StructureOutput(\"POSCAR\",\"vasp\",slab.slab_%iOH_%iO_p%i)' % (n_oh,n_o,j)\n",
    "                    exec(cm)\n",
    "                    writer.StructureWriter()\n",
    "\n",
    "                    os.chdir('..')\n",
    "            \n",
    "            else:\n",
    "                dir = 'Mg_10m10_' + str(n_o) + 'O_' + str(n_oh) + 'OH_' + str(site) \n",
    "                os.mkdir(dir)\n",
    "                os.system('cp INCAR KPOINTS %s' % dir)\n",
    "                os.chdir(dir)\n",
    "\n",
    "                slab.HybridAdsorption(n_o,n_oh)\n",
    "                cm = 'writer = StructureOutput(\"POSCAR\",\"vasp\",slab.slab_%iOH_%iO_p1)' % (n_oh,n_o)\n",
    "                exec(cm)\n",
    "                writer.StructureWriter()\n",
    "\n",
    "                os.chdir('..')"
   ]
  },
  {
   "cell_type": "code",
   "execution_count": null,
   "metadata": {},
   "outputs": [],
   "source": []
  }
 ],
 "metadata": {
  "kernelspec": {
   "display_name": "Python 3.9.7 ('work')",
   "language": "python",
   "name": "python3"
  },
  "language_info": {
   "codemirror_mode": {
    "name": "ipython",
    "version": 3
   },
   "file_extension": ".py",
   "mimetype": "text/x-python",
   "name": "python",
   "nbconvert_exporter": "python",
   "pygments_lexer": "ipython3",
   "version": "3.9.7"
  },
  "orig_nbformat": 4,
  "vscode": {
   "interpreter": {
    "hash": "2f96c6429f727abf40bda0f738b748f4f96354aa996dc3cc220cc83619beaf19"
   }
  }
 },
 "nbformat": 4,
 "nbformat_minor": 2
}
