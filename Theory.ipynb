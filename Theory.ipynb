{
 "cells": [
  {
   "cell_type": "markdown",
   "metadata": {},
   "source": [
    "### Theory for Constructing Mg Surface Pourbaix Diagram"
   ]
  },
  {
   "cell_type": "markdown",
   "metadata": {},
   "source": [
    "* This Notebook is based on this [paper](https://journals.aps.org/prapplied/abstract/10.1103/PhysRevApplied.1.014001) which depicts the approach for generating the Pourbaix diagram.\n",
    "\n",
    "* We construct the Pourbaix diagram of multiple Mg surfaces, not only focusing on the (0001) basal plane, but also on the (10m10) and (11m20) surfaces.\n",
    "\n",
    "* Not only different on-surface adsorption surfaces are considered, but also the subsurface adsorption surfaces are also included here."
   ]
  },
  {
   "cell_type": "markdown",
   "metadata": {},
   "source": [
    "1. The most essential lessons we could learn from the aforementioned paper are the following two equations:\n",
    "\n",
    "    * <span style=\"color:orange\"> $\\Delta G_{\\alpha} = \\Delta G^{\\circ}_{\\alpha} - \\Sigma n_i \\mu_i$</span>, which depicts the surface adsorption (excess) free energy with respect to the corresponding free energy at the standard condition. \n",
    "      \n",
    "      Here $\\mu_i = \\tilde{\\mu}_i - \\tilde{\\mu}_i^{\\circ}$ refers to the calibrated chemical potential of speices $i$.\n",
    "\n",
    "    * In terms of water system (where $\\mu_H$ and $\\mu_O$ matter), the calibatered chemical potential of H and O are important:\n",
    "\n",
    "      <span style=\"color:cyan\"> $\\mu_H = \\tilde{\\mu}_H - \\tilde{\\mu}_H^{\\circ} = (\\mu_e - \\mu_e^{SHE}) - k_BT~ln10~pH$ </span> and \n",
    "\n",
    "      <span style=\"color:pink\"> $\\mu_O = \\Delta G_f^{\\circ}(H_2O) - 2\\mu_H$ </span>"
   ]
  },
  {
   "cell_type": "markdown",
   "metadata": {},
   "source": [
    "2. Consider an arbitrary Mg surface in any adsorption state, which has the chemical symbol as $Mg^{\\beta}*O_xH_y$ ($\\beta$ refers to different Mg surfaces)\n",
    "\n",
    "   * The adsorption free energy could be expressed as: <span style=\"color:orange\">$\\Delta G[Mg^{\\beta}*O_xH_y] = \\Delta G^{\\circ}[Mg^{\\beta}*O_xH_y] - \\Sigma_i n_i \\mu_i$</span>\n",
    "  \n",
    "   * The first term <span style=\"color:red\">*$\\Delta G^{\\circ}[Mg^{\\beta}*O_xH_y]$*</span> refers to the standard adsorption free energy, which equals to:\n",
    "\n",
    "      $\\Delta G^{\\circ}[Mg^{\\beta}*O_xH_y] = E[Mg^{\\beta}*O_xH_y] - N_{Mg}\\tilde{\\mu}^{\\circ}_{Mg} - x\\tilde{\\mu}^{\\circ}_O - y\\tilde{\\mu}^{\\circ}_H$\n",
    "\n",
    "      $= E[Mg^{\\beta}*O_xH_y] - N_{Mg} * E_{Mg}^{Bulk} - \\frac{x}{2}E_{O_2} - \\frac{y}{2}E_{H_2}$ \n",
    "\n",
    "   * Then consider the chemical potential biased term:\n",
    "\n",
    "      <span style=\"color:cyan\">$\\Sigma_i n_i \\mu_i = N_{Mg}\\mu_{Mg} + x\\mu_O + y\\mu_H = N_{Mg}(E_{Mg}^{\\beta} - E_{Mg}^{Bulk}) + x\\Delta G_f^{\\circ}(H_2O) + (y-2x)\\mu_H$</span>\n",
    "\n",
    "   * The final expression of the arbitrary Mg surface is \n",
    "      \n",
    "      $\\Delta G[Mg^{\\beta}*O_xH_y] = E[Mg^{\\beta}*O_xH_y] - E[Mg^{\\beta}*] - \\frac{x}{2}E_{O_2} - \\frac{y}{2}E_{H_2} - x\\Delta G_f^{\\circ}(H_2O)$\n",
    "\n",
    "      $+ (2x -y) [(\\mu_e - \\mu_e^{SHE}) - k_BT~ln10~pH]$\n",
    "\n",
    "   * Consider the Fermi energy basis (potential shift), higher chemcial potential of electrons refers to a negative potential (and vice versa), \n",
    "  \n",
    "     thus <span style=\"color:pink\">$U_{SHE} = (\\mu_e^{SHE} - \\mu_e)/e$</span> and <span style=\"color:yellow\">$\\mu_e - \\mu_e^{SHE} = -eU_{SHE}$</span>"
   ]
  },
  {
   "cell_type": "markdown",
   "metadata": {},
   "source": [
    "3. In terms of the symmetric adsorption structure, the previous equation should be slightly modified with considering the prefactor 2:\n",
    "\n",
    "   * We hope to study the adsorption state of a Mg surface as $Mg^{\\beta}*O_xH_y$, but construct a symmetric system with a chemical symbol as $Mg^{\\beta}*O_{2x}H_{2y}$.\n",
    "\n",
    "   * For this symmetric system, nothing sepcial will change for the final free energy expression, except the prefactors:\n",
    "\n",
    "      $\\Delta G[Mg^{\\beta}*O_{2x}H_{2y}] = E[Mg^{\\beta}*O_{2x}H_{2y}] - E[Mg^{\\beta}*] - xE_{O_2} - yE_{H_2} - 2x\\Delta G_f^{\\circ}(H_2O)$\n",
    "\n",
    "      $+ 2(2x -y) [(\\mu_e - \\mu_e^{SHE}) - k_BT~ln10~pH]$\n",
    "\n",
    "   * Then we just need half of this surface excess free energy from:\n",
    "\n",
    "      $\\Delta G[Mg^{\\beta}*O_{x}H_{y}] = \\frac{1}{2}\\Delta G[Mg^{\\beta}*O_{2x}H_{2y}]= $ <span style=\"color:pink\"> $\\frac{E[Mg^{\\beta}*O_{2x}H_{2y}] - E[Mg^{\\beta}*]}{2}$</span> $ - \\frac{x}{2}E_{O_2} - \\frac{y}{2}E_{H_2} - x\\Delta G_f^{\\circ}(H_2O)$\n",
    "\n",
    "      $+ (2x -y) [(\\mu_e - \\mu_e^{SHE}) - k_BT~ln10~pH]$"
   ]
  },
  {
   "cell_type": "markdown",
   "metadata": {},
   "source": [
    "4. <span style=\"color:cyan\">How about a slab within a continuum media (implicit solvent model)?</span>\n",
    "\n",
    "   * Initial feel of the contribution of this solvation system to our surface Pourbaix model is to replace the energy of the pristine slab (in vacuum) and the energy of the complex slab (in vacuum) with the energies in solvent.\n",
    "\n",
    "   * Recall the way we determine $\\mu_H$, we consider the ionization process of the hydrogen atom happens in the vacuum (reservoir), then the gas phase hydronium is solvated in the liquid phase (where we include the dissolving energy). If this is the case, we don not need to consider the solvation effect of the reference gas molecule in the implicit solvent case.\n",
    "\n",
    "   * To sum up, in this implicit slab model, we consider the reservoir is still in vacuum, but our slab is fully covered by the implicit solvent:\n",
    "\n",
    "      $\\Delta G^{sol}[Mg^{\\beta}*O_{x}H_{y}] = $ <span style=\"color:yellow\"> $\\frac{E^{sol}[Mg^{\\beta}*O_{2x}H_{2y}] - E^{sol}[Mg^{\\beta}*]}{2}$</span> $ - \\frac{x}{2}E_{O_2} - \\frac{y}{2}E_{H_2} - x\\Delta G_f^{\\circ}(H_2O)$\n",
    "\n",
    "      $+ (2x -y) [(\\mu_e - \\mu_e^{SHE}) - k_BT~ln10~pH]$\n",
    "\n"
   ]
  },
  {
   "cell_type": "markdown",
   "metadata": {},
   "source": []
  }
 ],
 "metadata": {
  "kernelspec": {
   "display_name": "Python 3.9.7 ('work')",
   "language": "python",
   "name": "python3"
  },
  "language_info": {
   "name": "python",
   "version": "3.9.7"
  },
  "orig_nbformat": 4,
  "vscode": {
   "interpreter": {
    "hash": "2f96c6429f727abf40bda0f738b748f4f96354aa996dc3cc220cc83619beaf19"
   }
  }
 },
 "nbformat": 4,
 "nbformat_minor": 2
}
